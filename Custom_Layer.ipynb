{
  "nbformat": 4,
  "nbformat_minor": 0,
  "metadata": {
    "colab": {
      "name": "Custom_Layer.ipynb",
      "provenance": [],
      "collapsed_sections": [],
      "toc_visible": true,
      "include_colab_link": true
    },
    "kernelspec": {
      "name": "python3",
      "display_name": "Python 3"
    }
  },
  "cells": [
    {
      "cell_type": "markdown",
      "metadata": {
        "id": "view-in-github",
        "colab_type": "text"
      },
      "source": [
        "<a href=\"https://colab.research.google.com/github/majid1363/majid1363/blob/main/Custom_Layer.ipynb\" target=\"_parent\"><img src=\"https://colab.research.google.com/assets/colab-badge.svg\" alt=\"Open In Colab\"/></a>"
      ]
    },
    {
      "cell_type": "code",
      "metadata": {
        "id": "ADaQdTmjosEX"
      },
      "source": [
        "import tensorflow as tf"
      ],
      "execution_count": null,
      "outputs": []
    },
    {
      "cell_type": "markdown",
      "metadata": {
        "id": "7BLd55gO_tP4"
      },
      "source": [
        "# Linear Layer"
      ]
    },
    {
      "cell_type": "code",
      "metadata": {
        "id": "FNkx2W4U8r5-"
      },
      "source": [
        "class Linear(tf.keras.layers.Layer):\n",
        "    def __init__(self, units, input_shape):\n",
        "        super(Linear, self).__init__()\n",
        "\n",
        "        self.w = self.add_weight(\n",
        "            shape=(input_shape[-1], units),\n",
        "            initializer=tf.keras.initializers.RandomNormal(mean=0.0, stddev=0.05, seed=2),\n",
        "            trainable=True,\n",
        "        )\n",
        "        self.b = self.add_weight(\n",
        "            shape=(units,),\n",
        "            initializer=tf.keras.initializers.RandomNormal(mean=0.0, stddev=0.05, seed=2),\n",
        "            trainable=True,\n",
        "        )\n",
        "\n",
        "    def call(self, inputs):\n",
        "        return tf.matmul(inputs, self.w) + self.b"
      ],
      "execution_count": null,
      "outputs": []
    },
    {
      "cell_type": "code",
      "metadata": {
        "colab": {
          "base_uri": "https://localhost:8080/"
        },
        "id": "J0abkHp_83VA",
        "outputId": "9347424f-68f6-46fd-c1be-bd44ce0119f5"
      },
      "source": [
        "x = tf.ones((2, 2))\n",
        "linear_layer = Linear(4, x.shape)\n",
        "y = linear_layer(x)\n",
        "print(y)"
      ],
      "execution_count": null,
      "outputs": [
        {
          "output_type": "stream",
          "text": [
            "tf.Tensor(\n",
            "[[-0.1219431  -0.05193181 -0.10644008 -0.05279358]\n",
            " [-0.1219431  -0.05193181 -0.10644008 -0.05279358]], shape=(2, 4), dtype=float32)\n"
          ],
          "name": "stdout"
        }
      ]
    },
    {
      "cell_type": "code",
      "metadata": {
        "colab": {
          "base_uri": "https://localhost:8080/"
        },
        "id": "20TNyMGc-a0K",
        "outputId": "2bc1f172-c3e4-4866-9057-4aea667fe682"
      },
      "source": [
        "linear_layer.weights"
      ],
      "execution_count": null,
      "outputs": [
        {
          "output_type": "execute_result",
          "data": {
            "text/plain": [
              "[<tf.Variable 'Variable:0' shape=(2, 4) dtype=float32, numpy=\n",
              " array([[-0.03197147, -0.00935029, -0.04142277, -0.00936618],\n",
              "        [-0.05800017, -0.03323123, -0.02359455, -0.03406122]],\n",
              "       dtype=float32)>,\n",
              " <tf.Variable 'Variable:0' shape=(4,) dtype=float32, numpy=array([-0.03197147, -0.00935029, -0.04142277, -0.00936618], dtype=float32)>]"
            ]
          },
          "metadata": {
            "tags": []
          },
          "execution_count": 18
        }
      ]
    },
    {
      "cell_type": "code",
      "metadata": {
        "id": "KKG3pWmH-gZ4"
      },
      "source": [
        "# load dataset\n",
        "(x_train, y_train), (x_test, y_test) = tf.keras.datasets.mnist.load_data()\n",
        "\n",
        "# \n",
        "x_train = x_train.astype(float) / 255.\n",
        "x_test  = x_test.astype(float) / 255.\n",
        "\n",
        "# Convert class vectors to binary class matrices.\n",
        "num_classes = 10\n",
        "y_train = tf.keras.utils.to_categorical(y_train, num_classes)\n",
        "y_test = tf.keras.utils.to_categorical(y_test, num_classes)"
      ],
      "execution_count": null,
      "outputs": []
    },
    {
      "cell_type": "code",
      "metadata": {
        "colab": {
          "base_uri": "https://localhost:8080/"
        },
        "id": "KyxH5Gg0-tQY",
        "outputId": "0c8768c6-1b05-42bc-8284-37a0832714a3"
      },
      "source": [
        "model = tf.keras.Sequential()\n",
        "model.add(tf.keras.layers.Input(shape=x_train[0].shape))\n",
        "model.add(tf.keras.layers.Flatten())\n",
        "model.add(Linear(256, (784,)))\n",
        "model.add(tf.keras.layers.ReLU())\n",
        "model.add(Linear(10, (256,)))\n",
        "model.summary()\n",
        "\n",
        "# compile model\n",
        "model.compile(loss='mse', optimizer='adam', metrics=['accuracy'])\n",
        "\n",
        "# train model\n",
        "history = model.fit(x_train, y_train,\n",
        "                    validation_data=(x_test, y_test),\n",
        "                    batch_size=100,\n",
        "                    epochs=10)"
      ],
      "execution_count": null,
      "outputs": [
        {
          "output_type": "stream",
          "text": [
            "Model: \"sequential_3\"\n",
            "_________________________________________________________________\n",
            "Layer (type)                 Output Shape              Param #   \n",
            "=================================================================\n",
            "flatten_3 (Flatten)          (None, 784)               0         \n",
            "_________________________________________________________________\n",
            "linear_8 (Linear)            (None, 256)               200960    \n",
            "_________________________________________________________________\n",
            "re_lu_3 (ReLU)               (None, 256)               0         \n",
            "_________________________________________________________________\n",
            "linear_9 (Linear)            (None, 10)                2570      \n",
            "=================================================================\n",
            "Total params: 203,530\n",
            "Trainable params: 203,530\n",
            "Non-trainable params: 0\n",
            "_________________________________________________________________\n",
            "Epoch 1/10\n",
            "600/600 [==============================] - 3s 4ms/step - loss: 0.0343 - accuracy: 0.8560 - val_loss: 0.0128 - val_accuracy: 0.9619\n",
            "Epoch 2/10\n",
            "600/600 [==============================] - 2s 4ms/step - loss: 0.0117 - accuracy: 0.9667 - val_loss: 0.0103 - val_accuracy: 0.9692\n",
            "Epoch 3/10\n",
            "600/600 [==============================] - 2s 4ms/step - loss: 0.0091 - accuracy: 0.9774 - val_loss: 0.0092 - val_accuracy: 0.9735\n",
            "Epoch 4/10\n",
            "600/600 [==============================] - 3s 4ms/step - loss: 0.0079 - accuracy: 0.9805 - val_loss: 0.0086 - val_accuracy: 0.9750\n",
            "Epoch 5/10\n",
            "600/600 [==============================] - 3s 4ms/step - loss: 0.0073 - accuracy: 0.9832 - val_loss: 0.0081 - val_accuracy: 0.9768\n",
            "Epoch 6/10\n",
            "600/600 [==============================] - 3s 4ms/step - loss: 0.0067 - accuracy: 0.9861 - val_loss: 0.0080 - val_accuracy: 0.9770\n",
            "Epoch 7/10\n",
            "600/600 [==============================] - 3s 4ms/step - loss: 0.0061 - accuracy: 0.9873 - val_loss: 0.0078 - val_accuracy: 0.9762\n",
            "Epoch 8/10\n",
            "600/600 [==============================] - 3s 4ms/step - loss: 0.0056 - accuracy: 0.9896 - val_loss: 0.0076 - val_accuracy: 0.9768\n",
            "Epoch 9/10\n",
            "600/600 [==============================] - 2s 4ms/step - loss: 0.0054 - accuracy: 0.9909 - val_loss: 0.0075 - val_accuracy: 0.9782\n",
            "Epoch 10/10\n",
            "600/600 [==============================] - 2s 4ms/step - loss: 0.0051 - accuracy: 0.9917 - val_loss: 0.0073 - val_accuracy: 0.9779\n"
          ],
          "name": "stdout"
        }
      ]
    },
    {
      "cell_type": "markdown",
      "metadata": {
        "id": "q2QnnLNb_1WJ"
      },
      "source": [
        "### build method"
      ]
    },
    {
      "cell_type": "code",
      "metadata": {
        "id": "OVc8tezu7Ww3"
      },
      "source": [
        "class Linear(tf.keras.layers.Layer):\n",
        "    def __init__(self, units=32):\n",
        "        super(Linear, self).__init__()\n",
        "        self.units = units\n",
        "\n",
        "    def build(self, input_shape):\n",
        "        self.w = self.add_weight(\n",
        "            shape=(input_shape[-1], self.units),\n",
        "            initializer=tf.keras.initializers.RandomNormal(mean=0.0, stddev=0.05, seed=2),\n",
        "            trainable=True,\n",
        "        )\n",
        "        self.b = self.add_weight(\n",
        "            shape=(self.units,),\n",
        "            initializer=tf.keras.initializers.RandomNormal(mean=0.0, stddev=0.05, seed=2),\n",
        "            trainable=True,\n",
        "        )\n",
        "\n",
        "    def call(self, inputs):\n",
        "        return tf.matmul(inputs, self.w) + self.b"
      ],
      "execution_count": null,
      "outputs": []
    },
    {
      "cell_type": "code",
      "metadata": {
        "colab": {
          "base_uri": "https://localhost:8080/"
        },
        "id": "TiBymL-K_SR4",
        "outputId": "ccda7b7a-a7ce-4b4e-bc99-9fbd7410e30b"
      },
      "source": [
        "model = tf.keras.Sequential()\n",
        "model.add(tf.keras.layers.Input(shape=x_train[0].shape))\n",
        "model.add(tf.keras.layers.Flatten())\n",
        "model.add(Linear(256))\n",
        "model.add(tf.keras.layers.ReLU())\n",
        "model.add(Linear(10))\n",
        "model.summary()\n",
        "\n",
        "# compile model\n",
        "model.compile(loss='mse', optimizer='adam', metrics=['accuracy'])\n",
        "\n",
        "# train model\n",
        "history = model.fit(x_train, y_train,\n",
        "                    validation_data=(x_test, y_test),\n",
        "                    batch_size=100,\n",
        "                    epochs=10)"
      ],
      "execution_count": null,
      "outputs": [
        {
          "output_type": "stream",
          "text": [
            "Model: \"sequential_4\"\n",
            "_________________________________________________________________\n",
            "Layer (type)                 Output Shape              Param #   \n",
            "=================================================================\n",
            "flatten_4 (Flatten)          (None, 784)               0         \n",
            "_________________________________________________________________\n",
            "linear_10 (Linear)           (None, 256)               200960    \n",
            "_________________________________________________________________\n",
            "re_lu_4 (ReLU)               (None, 256)               0         \n",
            "_________________________________________________________________\n",
            "linear_11 (Linear)           (None, 10)                2570      \n",
            "=================================================================\n",
            "Total params: 203,530\n",
            "Trainable params: 203,530\n",
            "Non-trainable params: 0\n",
            "_________________________________________________________________\n",
            "Epoch 1/10\n",
            "600/600 [==============================] - 3s 4ms/step - loss: 0.0345 - accuracy: 0.8538 - val_loss: 0.0126 - val_accuracy: 0.9631\n",
            "Epoch 2/10\n",
            "600/600 [==============================] - 3s 4ms/step - loss: 0.0116 - accuracy: 0.9674 - val_loss: 0.0102 - val_accuracy: 0.9700\n",
            "Epoch 3/10\n",
            "600/600 [==============================] - 3s 4ms/step - loss: 0.0091 - accuracy: 0.9764 - val_loss: 0.0089 - val_accuracy: 0.9751\n",
            "Epoch 4/10\n",
            "600/600 [==============================] - 3s 4ms/step - loss: 0.0080 - accuracy: 0.9788 - val_loss: 0.0085 - val_accuracy: 0.9758\n",
            "Epoch 5/10\n",
            "600/600 [==============================] - 3s 4ms/step - loss: 0.0071 - accuracy: 0.9838 - val_loss: 0.0081 - val_accuracy: 0.9770\n",
            "Epoch 6/10\n",
            "600/600 [==============================] - 2s 4ms/step - loss: 0.0065 - accuracy: 0.9856 - val_loss: 0.0080 - val_accuracy: 0.9789\n",
            "Epoch 7/10\n",
            "600/600 [==============================] - 3s 4ms/step - loss: 0.0061 - accuracy: 0.9881 - val_loss: 0.0077 - val_accuracy: 0.9778\n",
            "Epoch 8/10\n",
            "600/600 [==============================] - 3s 4ms/step - loss: 0.0056 - accuracy: 0.9898 - val_loss: 0.0076 - val_accuracy: 0.9778\n",
            "Epoch 9/10\n",
            "600/600 [==============================] - 2s 4ms/step - loss: 0.0054 - accuracy: 0.9909 - val_loss: 0.0074 - val_accuracy: 0.9784\n",
            "Epoch 10/10\n",
            "600/600 [==============================] - 2s 4ms/step - loss: 0.0050 - accuracy: 0.9916 - val_loss: 0.0074 - val_accuracy: 0.9796\n"
          ],
          "name": "stdout"
        }
      ]
    },
    {
      "cell_type": "markdown",
      "metadata": {
        "id": "yIAkA9Ld_7h_"
      },
      "source": [
        "# Gradient Reversal Layer"
      ]
    },
    {
      "cell_type": "markdown",
      "metadata": {
        "id": "IgWZJ5uEn4ZI"
      },
      "source": [
        "![1_piqiA10qR6b7XpCNVi2eRQ.png](data:image/png;base64,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)\n",
        "\n",
        "Ganin, Yaroslav, and Victor Lempitsky. \"Unsupervised domain adaptation by backpropagation.\" International conference on machine learning, 2015."
      ]
    },
    {
      "cell_type": "code",
      "metadata": {
        "id": "YexlYhb7ohrH"
      },
      "source": [
        "# Define gradient reversal layer\n",
        "@tf.custom_gradient\n",
        "def gradient_reversal(x):\n",
        "    out = tf.identity(x)\n",
        "    def grad_fn(dy):\n",
        "        return -1. * dy\n",
        "    return out, grad_fn\n",
        "\n",
        "class GradientReversalLayer(tf.keras.layers.Layer):\n",
        "    def __init__(self):\n",
        "        super(GradientReversalLayer, self).__init__()\n",
        "\n",
        "    def call(self, x):\n",
        "        return gradient_reversal(x)"
      ],
      "execution_count": null,
      "outputs": []
    },
    {
      "cell_type": "code",
      "metadata": {
        "id": "q3Ut-FzMATqf"
      },
      "source": [
        "gr_layer = GradientReversalLayer()"
      ],
      "execution_count": null,
      "outputs": []
    },
    {
      "cell_type": "code",
      "metadata": {
        "colab": {
          "base_uri": "https://localhost:8080/"
        },
        "id": "D5Z03MOwAYaP",
        "outputId": "cd570629-957e-41e3-830a-6123c2d59d88"
      },
      "source": [
        "x = tf.constant([[1., 2], [3, 4]])\n",
        "y = gr_layer(x)\n",
        "print(y)"
      ],
      "execution_count": null,
      "outputs": [
        {
          "output_type": "stream",
          "text": [
            "tf.Tensor(\n",
            "[[1. 2.]\n",
            " [3. 4.]], shape=(2, 2), dtype=float32)\n"
          ],
          "name": "stdout"
        }
      ]
    },
    {
      "cell_type": "code",
      "metadata": {
        "colab": {
          "base_uri": "https://localhost:8080/"
        },
        "id": "LbYRHMiBAvCB",
        "outputId": "396e6122-63e9-4989-c353-2c01c90a16e3"
      },
      "source": [
        "with tf.GradientTape() as g:\n",
        "    g.watch(x)\n",
        "    y = x * x * x\n",
        "\n",
        "dy_dx = g.gradient(y, x)\n",
        "print(dy_dx)"
      ],
      "execution_count": null,
      "outputs": [
        {
          "output_type": "stream",
          "text": [
            "tf.Tensor(\n",
            "[[ 3. 12.]\n",
            " [27. 48.]], shape=(2, 2), dtype=float32)\n"
          ],
          "name": "stdout"
        }
      ]
    },
    {
      "cell_type": "code",
      "metadata": {
        "colab": {
          "base_uri": "https://localhost:8080/"
        },
        "id": "EBSu4kZ2iRTz",
        "outputId": "e267e9f3-d355-4e90-962a-4a6b7157e0f9"
      },
      "source": [
        "with tf.GradientTape() as g:\n",
        "    g.watch(x)\n",
        "    y = gr_layer(x)\n",
        "\n",
        "dy_dx = g.gradient(y, x)\n",
        "print(dy_dx)"
      ],
      "execution_count": null,
      "outputs": [
        {
          "output_type": "stream",
          "text": [
            "tf.Tensor(\n",
            "[[-1. -1.]\n",
            " [-1. -1.]], shape=(2, 2), dtype=float32)\n"
          ],
          "name": "stdout"
        }
      ]
    },
    {
      "cell_type": "code",
      "metadata": {
        "colab": {
          "base_uri": "https://localhost:8080/"
        },
        "id": "CTvHKMJqBphc",
        "outputId": "71e8c55e-364c-41a0-81fb-93903ca2586d"
      },
      "source": [
        "model = tf.keras.Sequential()\n",
        "model.add(tf.keras.layers.Input(shape=x_train[0].shape))\n",
        "model.add(tf.keras.layers.Flatten())\n",
        "model.add(Linear(256))\n",
        "model.add(tf.keras.layers.ReLU())\n",
        "model.add(Linear(10))\n",
        "model.add(GradientReversalLayer())\n",
        "model.summary()\n",
        "\n",
        "# compile model\n",
        "model.compile(loss='mse', optimizer='adam', metrics=['accuracy'])\n",
        "\n",
        "# train model\n",
        "history = model.fit(x_train, y_train,\n",
        "                    validation_data=(x_test, y_test),\n",
        "                    batch_size=100,\n",
        "                    epochs=10,\n",
        "                    shuffle=True)"
      ],
      "execution_count": null,
      "outputs": [
        {
          "output_type": "stream",
          "text": [
            "Model: \"sequential_7\"\n",
            "_________________________________________________________________\n",
            "Layer (type)                 Output Shape              Param #   \n",
            "=================================================================\n",
            "flatten_7 (Flatten)          (None, 784)               0         \n",
            "_________________________________________________________________\n",
            "linear_15 (Linear)           (None, 256)               200960    \n",
            "_________________________________________________________________\n",
            "re_lu_6 (ReLU)               (None, 256)               0         \n",
            "_________________________________________________________________\n",
            "linear_16 (Linear)           (None, 10)                2570      \n",
            "_________________________________________________________________\n",
            "gradient_reversal_layer_5 (G (None, 10)                0         \n",
            "=================================================================\n",
            "Total params: 203,530\n",
            "Trainable params: 203,530\n",
            "Non-trainable params: 0\n",
            "_________________________________________________________________\n",
            "Epoch 1/10\n",
            "600/600 [==============================] - 3s 4ms/step - loss: 0.0350 - accuracy: 0.8518 - val_loss: 0.0128 - val_accuracy: 0.9623\n",
            "Epoch 2/10\n",
            "600/600 [==============================] - 3s 4ms/step - loss: 0.0115 - accuracy: 0.9684 - val_loss: 0.0102 - val_accuracy: 0.9701\n",
            "Epoch 3/10\n",
            "600/600 [==============================] - 3s 4ms/step - loss: 0.0092 - accuracy: 0.9764 - val_loss: 0.0092 - val_accuracy: 0.9738\n",
            "Epoch 4/10\n",
            "600/600 [==============================] - 3s 4ms/step - loss: 0.0079 - accuracy: 0.9811 - val_loss: 0.0083 - val_accuracy: 0.9764\n",
            "Epoch 5/10\n",
            "600/600 [==============================] - 3s 4ms/step - loss: 0.0071 - accuracy: 0.9838 - val_loss: 0.0082 - val_accuracy: 0.9765\n",
            "Epoch 6/10\n",
            "600/600 [==============================] - 3s 4ms/step - loss: 0.0066 - accuracy: 0.9856 - val_loss: 0.0077 - val_accuracy: 0.9780\n",
            "Epoch 7/10\n",
            "600/600 [==============================] - 3s 4ms/step - loss: 0.0060 - accuracy: 0.9884 - val_loss: 0.0077 - val_accuracy: 0.9769\n",
            "Epoch 8/10\n",
            "600/600 [==============================] - 3s 4ms/step - loss: 0.0057 - accuracy: 0.9887 - val_loss: 0.0076 - val_accuracy: 0.9775\n",
            "Epoch 9/10\n",
            "600/600 [==============================] - 3s 4ms/step - loss: 0.0054 - accuracy: 0.9903 - val_loss: 0.0073 - val_accuracy: 0.9781\n",
            "Epoch 10/10\n",
            "600/600 [==============================] - 3s 4ms/step - loss: 0.0051 - accuracy: 0.9921 - val_loss: 0.0072 - val_accuracy: 0.9789\n"
          ],
          "name": "stdout"
        }
      ]
    }
  ]
}